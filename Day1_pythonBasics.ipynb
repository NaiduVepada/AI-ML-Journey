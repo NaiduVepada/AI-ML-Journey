{
 "cells": [
  {
   "cell_type": "code",
   "execution_count": 1,
   "id": "d1b7eb83-941f-443a-a0c1-933f4c6d70ec",
   "metadata": {},
   "outputs": [
    {
     "name": "stdout",
     "output_type": "stream",
     "text": [
      "variables&Data Types:\n",
      "Ram 21 5.8 True\n",
      "______________________________\n"
     ]
    }
   ],
   "source": [
    "name=\"Ram\"\n",
    "age=21\n",
    "height=5.8\n",
    "is_student=True\n",
    "print(\"variables&Data Types:\")\n",
    "print(name,age,height,is_student)\n",
    "print(\"_\"*30)"
   ]
  },
  {
   "cell_type": "code",
   "execution_count": 2,
   "id": "825e59e3-0ed1-4048-abe2-efa20f06db7d",
   "metadata": {},
   "outputs": [
    {
     "name": "stdin",
     "output_type": "stream",
     "text": [
      "Enter your name: naidu\n"
     ]
    },
    {
     "name": "stdout",
     "output_type": "stream",
     "text": [
      "Hello naidu\n",
      "______________________________\n"
     ]
    }
   ],
   "source": [
    "user_name=input(\"Enter your name:\")\n",
    "print(\"Hello\",user_name)\n",
    "print(\"_\"*30)"
   ]
  },
  {
   "cell_type": "code",
   "execution_count": 4,
   "id": "2005ddf0-c9bb-4025-b982-2cc8d81fe191",
   "metadata": {},
   "outputs": [
    {
     "name": "stdin",
     "output_type": "stream",
     "text": [
      "Enter your age: 15\n"
     ]
    },
    {
     "name": "stdout",
     "output_type": "stream",
     "text": [
      "you are not eligible to vote yet.\n",
      "______________________________\n"
     ]
    }
   ],
   "source": [
    "user_age=int(input(\"Enter your age:\"))\n",
    "if user_age>=18:\n",
    "    print(\"your are eligible to vote\")\n",
    "else:\n",
    "    print(\"you are not eligible to vote yet.\")\n",
    "print(\"_\"*30)\n"
   ]
  },
  {
   "cell_type": "code",
   "execution_count": 5,
   "id": "136cf969-ae32-418e-9af6-19232cbb496b",
   "metadata": {},
   "outputs": [
    {
     "name": "stdout",
     "output_type": "stream",
     "text": [
      "for loop output:\n",
      "0\n",
      "1\n",
      "2\n",
      "3\n",
      "4\n",
      "______________________________\n"
     ]
    }
   ],
   "source": [
    "print(\"for loop output:\")\n",
    "for i in range(5):\n",
    "    print(i)\n",
    "print(\"_\"*30)"
   ]
  },
  {
   "cell_type": "code",
   "execution_count": 7,
   "id": "4058e925-0ae6-49fb-95da-1ef2b915aadd",
   "metadata": {},
   "outputs": [
    {
     "name": "stdout",
     "output_type": "stream",
     "text": [
      "while loop output:\n",
      "0\n",
      "1\n",
      "2\n",
      "3\n",
      "4\n",
      "______________________________\n"
     ]
    }
   ],
   "source": [
    "print(\"while loop output:\")\n",
    "count=0\n",
    "while count<5:\n",
    "    print(count)\n",
    "    count+=1\n",
    "print(\"_\"*30)"
   ]
  },
  {
   "cell_type": "code",
   "execution_count": 10,
   "id": "f86343e9-a6a0-4022-b758-0137bae0c2d3",
   "metadata": {},
   "outputs": [
    {
     "name": "stdout",
     "output_type": "stream",
     "text": [
      "HelloRam\n",
      "______________________________\n"
     ]
    }
   ],
   "source": [
    "def greet(name):\n",
    "    return \"Hello\" +name\n",
    "print(greet(\"Ram\"))\n",
    "print(\"_\"*30)"
   ]
  },
  {
   "cell_type": "code",
   "execution_count": 13,
   "id": "ac211b0e-e3cf-4eb6-97a4-126a05b20dc6",
   "metadata": {},
   "outputs": [
    {
     "name": "stdout",
     "output_type": "stream",
     "text": [
      "list output:\n",
      "apple\n",
      "banana\n",
      "manago\n",
      "______________________________\n"
     ]
    }
   ],
   "source": [
    "fruits=[\"apple\",\"banana\",\"manago\"]\n",
    "print(\"list output:\")\n",
    "for fruit in fruits:\n",
    "    print(fruit)\n",
    "print(\"_\"*30)"
   ]
  },
  {
   "cell_type": "code",
   "execution_count": 14,
   "id": "7338a36a-ab0f-4e27-9f6b-0bedc791fefb",
   "metadata": {},
   "outputs": [
    {
     "name": "stdin",
     "output_type": "stream",
     "text": [
      "Enter your name: naidu\n",
      "Enter your age: 21\n"
     ]
    },
    {
     "name": "stdout",
     "output_type": "stream",
     "text": [
      "hellonaidu,you are 21 years old.\n",
      "______________________________\n"
     ]
    }
   ],
   "source": [
    "name_input=input(\"Enter your name:\")\n",
    "age_input=input(\"Enter your age:\")\n",
    "print(f\"hello{name_input},you are {age_input} years old.\")\n",
    "print(\"_\"*30)"
   ]
  },
  {
   "cell_type": "code",
   "execution_count": 15,
   "id": "f893c4cc-798b-4026-92fe-8c2718f5155b",
   "metadata": {},
   "outputs": [
    {
     "name": "stdin",
     "output_type": "stream",
     "text": [
      "Enter a number: 4\n"
     ]
    },
    {
     "name": "stdout",
     "output_type": "stream",
     "text": [
      "4 is even\n",
      "______________________________\n"
     ]
    }
   ],
   "source": [
    "num=int(input(\"Enter a number:\"))\n",
    "if num % 2 ==0:\n",
    "    print(f\"{num} is even\")\n",
    "else:\n",
    "    print(f\"{num}is odd\")\n",
    "print(\"_\"*30)"
   ]
  },
  {
   "cell_type": "code",
   "execution_count": 16,
   "id": "b18c0c5c-634b-4620-9877-02cead22df14",
   "metadata": {},
   "outputs": [
    {
     "name": "stdin",
     "output_type": "stream",
     "text": [
      "Enter a number N: 60\n"
     ]
    },
    {
     "name": "stdout",
     "output_type": "stream",
     "text": [
      "1\n",
      "2\n",
      "3\n",
      "4\n",
      "5\n",
      "6\n",
      "7\n",
      "8\n",
      "9\n",
      "10\n",
      "11\n",
      "12\n",
      "13\n",
      "14\n",
      "15\n",
      "16\n",
      "17\n",
      "18\n",
      "19\n",
      "20\n",
      "21\n",
      "22\n",
      "23\n",
      "24\n",
      "25\n",
      "26\n",
      "27\n",
      "28\n",
      "29\n",
      "30\n",
      "31\n",
      "32\n",
      "33\n",
      "34\n",
      "35\n",
      "36\n",
      "37\n",
      "38\n",
      "39\n",
      "40\n",
      "41\n",
      "42\n",
      "43\n",
      "44\n",
      "45\n",
      "46\n",
      "47\n",
      "48\n",
      "49\n",
      "50\n",
      "51\n",
      "52\n",
      "53\n",
      "54\n",
      "55\n",
      "56\n",
      "57\n",
      "58\n",
      "59\n",
      "60\n",
      "______________________________\n"
     ]
    }
   ],
   "source": [
    "N=int (input(\"Enter a number N:\"))\n",
    "for i in range(1,N+1):\n",
    "    print(i)\n",
    "print(\"_\"*30)\n"
   ]
  },
  {
   "cell_type": "code",
   "execution_count": 17,
   "id": "324e7ce1-5d4a-4734-aace-503093a18fd5",
   "metadata": {},
   "outputs": [
    {
     "name": "stdout",
     "output_type": "stream",
     "text": [
      "Square of 4 is: 16\n"
     ]
    }
   ],
   "source": [
    "def square(x):\n",
    "    return x*x\n",
    "print(\"Square of 4 is:\",square(4))"
   ]
  },
  {
   "cell_type": "code",
   "execution_count": 19,
   "id": "1f23aab2-c359-415f-815b-60b42441e806",
   "metadata": {},
   "outputs": [
    {
     "name": "stdin",
     "output_type": "stream",
     "text": [
      "Enter your name: Naidu\n",
      "Enter your age: 20\n",
      "Enter your email: nnaidu8033@gmail.com\n"
     ]
    },
    {
     "name": "stdout",
     "output_type": "stream",
     "text": [
      "User Details:\n",
      "Name:Naidu\n",
      "Age20\n",
      "Email:nnaidu8033@gmail.com\n"
     ]
    }
   ],
   "source": [
    "name=input(\"Enter your name:\")\n",
    "age=input(\"Enter your age:\")\n",
    "email=input(\"Enter your email:\")\n",
    "if age.isdigit() and 1<=int(age)<=120:\n",
    "    age=int(age)\n",
    "else:\n",
    "    print(\"Invalid age entered\")\n",
    "    exit()\n",
    "if \"@\"not in email:\n",
    "    print(\"Invalid email entered\")\n",
    "    exit()\n",
    "print(f\"User Details:\\nName:{name}\\nAge{age}\\nEmail:{email}\")"
   ]
  },
  {
   "cell_type": "code",
   "execution_count": null,
   "id": "70e7967c-3311-4fd8-b8a4-9e84175b7695",
   "metadata": {},
   "outputs": [],
   "source": []
  }
 ],
 "metadata": {
  "kernelspec": {
   "display_name": "Python 3 (ipykernel)",
   "language": "python",
   "name": "python3"
  },
  "language_info": {
   "codemirror_mode": {
    "name": "ipython",
    "version": 3
   },
   "file_extension": ".py",
   "mimetype": "text/x-python",
   "name": "python",
   "nbconvert_exporter": "python",
   "pygments_lexer": "ipython3",
   "version": "3.12.7"
  }
 },
 "nbformat": 4,
 "nbformat_minor": 5
}
